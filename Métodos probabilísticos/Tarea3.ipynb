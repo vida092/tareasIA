{
 "cells": [
  {
   "cell_type": "code",
   "execution_count": 1,
   "id": "8768a1a5",
   "metadata": {},
   "outputs": [],
   "source": [
    "import numpy as np\n",
    "import cv2\n",
    "import tkinter as tk\n",
    "from tkinter import filedialog"
   ]
  },
  {
   "cell_type": "code",
   "execution_count": 2,
   "id": "9f822433",
   "metadata": {},
   "outputs": [],
   "source": [
    "piel = []\n",
    "npiel = []\n",
    "def on_mouse_click(event, x, y, flags, param):\n",
    "    global skin_samples, bg_samples\n",
    "    if event == cv2.EVENT_LBUTTONDOWN:  # Clic izquierdo\n",
    "        pixel = image[y, x]\n",
    "        print(f\"Ubicación del pixel: ({x}, {y}) coordenadas RGB: {pixel}\")\n",
    "        piel.append(list(pixel))\n",
    "    elif event == cv2.EVENT_RBUTTONDOWN:  # Clic derecho\n",
    "        pixel = image[y, x]\n",
    "        print(f\"Ubicación del pixel: ({x}, {y}) coordenadas RGB: {pixel}\")\n",
    "        npiel.append(list(pixel))"
   ]
  },
  {
   "cell_type": "code",
   "execution_count": 3,
   "id": "6d72b9ca",
   "metadata": {},
   "outputs": [
    {
     "name": "stdout",
     "output_type": "stream",
     "text": [
      "Ubicación del pixel: (415, 508) coordenadas RGB: [25 21 26]\n",
      "Ubicación del pixel: (345, 545) coordenadas RGB: [27 26 28]\n",
      "Ubicación del pixel: (229, 563) coordenadas RGB: [31 31 37]\n",
      "Ubicación del pixel: (142, 550) coordenadas RGB: [30 29 33]\n",
      "Ubicación del pixel: (117, 491) coordenadas RGB: [19 18 27]\n",
      "Ubicación del pixel: (76, 493) coordenadas RGB: [18 17 19]\n",
      "Ubicación del pixel: (95, 568) coordenadas RGB: [28 27 29]\n",
      "Ubicación del pixel: (95, 382) coordenadas RGB: [255 255 255]\n",
      "Ubicación del pixel: (452, 359) coordenadas RGB: [255 255 255]\n",
      "Ubicación del pixel: (261, 99) coordenadas RGB: [19 30 44]\n",
      "Ubicación del pixel: (243, 174) coordenadas RGB: [167 184 223]\n",
      "Ubicación del pixel: (198, 181) coordenadas RGB: [166 184 225]\n",
      "Ubicación del pixel: (269, 283) coordenadas RGB: [189 196 235]\n",
      "Ubicación del pixel: (188, 283) coordenadas RGB: [185 190 235]\n",
      "Ubicación del pixel: (224, 359) coordenadas RGB: [165 184 221]\n",
      "Ubicación del pixel: (308, 337) coordenadas RGB: [158 177 212]\n",
      "Ubicación del pixel: (289, 410) coordenadas RGB: [157 181 217]\n",
      "Ubicación del pixel: (236, 470) coordenadas RGB: [191 206 238]\n",
      "Ubicación del pixel: (180, 399) coordenadas RGB: [143 174 213]\n",
      "Ubicación del pixel: (238, 423) coordenadas RGB: [165 183 220]\n"
     ]
    }
   ],
   "source": [
    "root = tk.Tk()\n",
    "root.withdraw() \n",
    "file_path = 'piel.jpg'\n",
    "\n",
    "image = cv2.imread(file_path)\n",
    "\n",
    "cv2.namedWindow('Image')\n",
    "cv2.setMouseCallback('Image', on_mouse_click)\n",
    "\n",
    "while True:\n",
    "    cv2.imshow('Image', image)\n",
    "    key = cv2.waitKey(1) & 0xFF\n",
    "    if key == 27:  # Presionar Esc para salir\n",
    "        break"
   ]
  },
  {
   "cell_type": "code",
   "execution_count": 6,
   "id": "ff055858",
   "metadata": {},
   "outputs": [
    {
     "name": "stdout",
     "output_type": "stream",
     "text": [
      "10\n",
      "10\n"
     ]
    }
   ],
   "source": [
    "print(len(piel))\n",
    "print(len(npiel))"
   ]
  },
  {
   "cell_type": "code",
   "execution_count": 8,
   "id": "ce3ddced",
   "metadata": {},
   "outputs": [],
   "source": [
    "skin_mean = np.mean(piel, axis=0)\n",
    "bg_mean = np.mean(npiel, axis=0)\n",
    "skin_cov = np.cov(np.array(piel).T)\n",
    "bg_cov = np.cov(np.array(npiel).T)"
   ]
  },
  {
   "cell_type": "code",
   "execution_count": 9,
   "id": "2d59faf1",
   "metadata": {},
   "outputs": [],
   "source": [
    "def gaussian_prob(pixel, mean, cov):\n",
    "    pixel = np.array(pixel)\n",
    "    return 1 / (np.sqrt((2 * np.pi) ** 3 * np.linalg.det(cov))) * \\\n",
    "           np.exp(-0.5 * np.dot(np.dot((pixel - mean).T, np.linalg.inv(cov)), (pixel - mean)))"
   ]
  },
  {
   "cell_type": "code",
   "execution_count": 10,
   "id": "2e41cab3",
   "metadata": {},
   "outputs": [],
   "source": [
    "def classify_pixel(pixel, skin_gaussian, bg_gaussian, bg_prior):\n",
    "    p_skin = gaussian_prob(pixel, skin_gaussian['mean'], skin_gaussian['cov'])\n",
    "    p_bg = gaussian_prob(pixel, bg_gaussian['mean'], bg_gaussian['cov'])\n",
    "    posterior_skin = (p_skin * bg_prior) / (p_skin * bg_prior + p_bg * (1 - bg_prior))\n",
    "    return posterior_skin > 0.5"
   ]
  },
  {
   "cell_type": "code",
   "execution_count": 12,
   "id": "2f77aa82",
   "metadata": {},
   "outputs": [],
   "source": [
    "bg_prior = len(npiel) / (len(piel) + len(npiel))\n",
    "\n",
    "skin_gaussian = {'mean': skin_mean, 'cov': skin_cov}\n",
    "bg_gaussian = {'mean': bg_mean, 'cov': bg_cov}"
   ]
  },
  {
   "cell_type": "code",
   "execution_count": 13,
   "id": "a35f4afc",
   "metadata": {},
   "outputs": [],
   "source": [
    "segmented_image = np.zeros_like(image)\n",
    "for i in range(image.shape[0]):\n",
    "    for j in range(image.shape[1]):\n",
    "        pixel = image[i, j]\n",
    "        is_skin = classify_pixel(pixel, skin_gaussian, bg_gaussian, bg_prior)\n",
    "        if is_skin:\n",
    "            segmented_image[i, j] = [255, 255, 255]  \n",
    "        else:\n",
    "            segmented_image[i, j] = [0, 0, 0]   "
   ]
  },
  {
   "cell_type": "code",
   "execution_count": 14,
   "id": "d3167d3a",
   "metadata": {},
   "outputs": [
    {
     "name": "stdout",
     "output_type": "stream",
     "text": [
      "Imagen segmentada guardada como segmented_image_casa_clics.png\n"
     ]
    }
   ],
   "source": [
    "# Mostrar la imagen segmentada\n",
    "cv2.imshow('Segmented Image', segmented_image)\n",
    "\n",
    "# Guardar la imagen segmentada en el disco\n",
    "output_file = \"segmented_image_casa_clics.png\"  # Nombre del archivo de salida\n",
    "cv2.imwrite(output_file, segmented_image)\n",
    "print(f\"Imagen segmentada guardada como {output_file}\")\n",
    "\n",
    "cv2.waitKey(0)\n",
    "cv2.destroyAllWindows()"
   ]
  },
  {
   "cell_type": "code",
   "execution_count": null,
   "id": "b81a6df4",
   "metadata": {},
   "outputs": [],
   "source": []
  },
  {
   "cell_type": "code",
   "execution_count": null,
   "id": "c3ab4fc5",
   "metadata": {},
   "outputs": [],
   "source": []
  }
 ],
 "metadata": {
  "kernelspec": {
   "display_name": "Python 3 (ipykernel)",
   "language": "python",
   "name": "python3"
  },
  "language_info": {
   "codemirror_mode": {
    "name": "ipython",
    "version": 3
   },
   "file_extension": ".py",
   "mimetype": "text/x-python",
   "name": "python",
   "nbconvert_exporter": "python",
   "pygments_lexer": "ipython3",
   "version": "3.9.13"
  }
 },
 "nbformat": 4,
 "nbformat_minor": 5
}
