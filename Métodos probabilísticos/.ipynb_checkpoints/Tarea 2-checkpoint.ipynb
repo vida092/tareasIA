{
 "cells": [
  {
   "cell_type": "markdown",
   "id": "515d2e84",
   "metadata": {},
   "source": [
    "# PCA en imágenes RGB"
   ]
  },
  {
   "cell_type": "code",
   "execution_count": 16,
   "id": "b3843325",
   "metadata": {},
   "outputs": [],
   "source": [
    "from PIL import Image\n",
    "import numpy as np\n",
    "import matplotlib.pyplot as plt\n",
    "from mpl_toolkits.mplot3d import Axes3D\n",
    "import pythreejs as three\n",
    "from IPython.display import display\n",
    "import ipywidgets as widgets"
   ]
  },
  {
   "cell_type": "code",
   "execution_count": 2,
   "id": "6589eb04",
   "metadata": {},
   "outputs": [],
   "source": [
    "imagen = Image.open('globo.jpg')  "
   ]
  },
  {
   "cell_type": "code",
   "execution_count": 3,
   "id": "56448df7",
   "metadata": {},
   "outputs": [
    {
     "name": "stdout",
     "output_type": "stream",
     "text": [
      "443850\n"
     ]
    }
   ],
   "source": [
    "pixeles = list(imagen.getdata())\n",
    "print(len(pixeles))"
   ]
  },
  {
   "cell_type": "code",
   "execution_count": 4,
   "id": "95367fe5",
   "metadata": {},
   "outputs": [
    {
     "name": "stdout",
     "output_type": "stream",
     "text": [
      "(3, 149, 252)\n"
     ]
    }
   ],
   "source": [
    "print(pixeles[0])"
   ]
  },
  {
   "cell_type": "code",
   "execution_count": 5,
   "id": "f93820da",
   "metadata": {},
   "outputs": [
    {
     "name": "stdout",
     "output_type": "stream",
     "text": [
      "(3, 149, 252)\n"
     ]
    }
   ],
   "source": [
    "datos = np.array(pixeles)\n",
    "print(pixeles[0])"
   ]
  },
  {
   "cell_type": "code",
   "execution_count": 6,
   "id": "dff734fa",
   "metadata": {},
   "outputs": [
    {
     "name": "stdout",
     "output_type": "stream",
     "text": [
      "[[ 7013.14078326   207.36487109 -4496.05929992]\n",
      " [  207.36487109  3161.60030201  3753.08425908]\n",
      " [-4496.05929992  3753.08425908  8838.91725555]]\n"
     ]
    }
   ],
   "source": [
    " matriz_covarianza= np.cov(datos, rowvar=False)\n",
    "print(matriz_covarianza)"
   ]
  },
  {
   "cell_type": "code",
   "execution_count": 7,
   "id": "d64bbad0",
   "metadata": {},
   "outputs": [
    {
     "name": "stdout",
     "output_type": "stream",
     "text": [
      "Matriz de Correlación:\n",
      "[[ 1.          0.04403778 -0.57105274]\n",
      " [ 0.04403778  1.          0.70996232]\n",
      " [-0.57105274  0.70996232  1.        ]]\n"
     ]
    }
   ],
   "source": [
    "varianzas = matriz_covarianza.diagonal()\n",
    "\n",
    "\n",
    "matriz_correlacion = matriz_covarianza / np.sqrt(np.outer(varianzas, varianzas))\n",
    "\n",
    "print(\"Matriz de Correlación:\")\n",
    "print(matriz_correlacion)"
   ]
  },
  {
   "cell_type": "code",
   "execution_count": 8,
   "id": "4d48f5fb",
   "metadata": {},
   "outputs": [
    {
     "name": "stdout",
     "output_type": "stream",
     "text": [
      "Matriz de Correlación:\n",
      "[[ 1.          0.04403778 -0.57105274]\n",
      " [ 0.04403778  1.          0.70996232]\n",
      " [-0.57105274  0.70996232  1.        ]]\n"
     ]
    }
   ],
   "source": [
    "matriz_correlacion2 = np.corrcoef(datos, rowvar=False)\n",
    "\n",
    "print(\"Matriz de Correlación:\")\n",
    "print(matriz_correlacion2)"
   ]
  },
  {
   "cell_type": "code",
   "execution_count": 9,
   "id": "f30a0fd9",
   "metadata": {},
   "outputs": [
    {
     "name": "stdout",
     "output_type": "stream",
     "text": [
      "Eigenvalores:\n",
      "[13322.76085862  5325.72958622   365.16789598]\n",
      "\n",
      "Eigenvectores:\n",
      "[[-0.55113648 -0.73941162 -0.38667691]\n",
      " [ 0.27918566 -0.60011008  0.7496154 ]\n",
      " [ 0.78632306 -0.30518574 -0.53717568]]\n"
     ]
    }
   ],
   "source": [
    "eigenvalores, eigenvectores = np.linalg.eig(matriz_covarianza)\n",
    "\n",
    "print(\"Eigenvalores:\")\n",
    "print(eigenvalores)\n",
    "\n",
    "print(\"\\nEigenvectores:\")\n",
    "print(eigenvectores)"
   ]
  },
  {
   "cell_type": "code",
   "execution_count": 10,
   "id": "4cffbc0c",
   "metadata": {},
   "outputs": [
    {
     "name": "stdout",
     "output_type": "stream",
     "text": [
      "Eigenvector 1: 0.7007\n",
      "Eigenvector 2: 0.2801\n",
      "Eigenvector 3: 0.0192\n"
     ]
    }
   ],
   "source": [
    "# Calcular la suma de todos los eigenvalores\n",
    "suma_total_eigenvalores = np.sum(eigenvalores)\n",
    "\n",
    "# Calcular la proporción de la varianza explicada por cada eigenvector\n",
    "proporcion_varianza_explicada = eigenvalores / suma_total_eigenvalores\n",
    "\n",
    "# Imprimir la proporción de la varianza explicada por cada eigenvector\n",
    "for i, prop in enumerate(proporcion_varianza_explicada):\n",
    "    print(f\"Eigenvector {i + 1}: {prop:.4f}\")"
   ]
  },
  {
   "cell_type": "code",
   "execution_count": 11,
   "id": "7271e447",
   "metadata": {},
   "outputs": [
    {
     "name": "stdout",
     "output_type": "stream",
     "text": [
      "Vector Medio (Medias de las Variables):\n",
      "[ 60.32532162 136.69216402 176.62967444]\n"
     ]
    }
   ],
   "source": [
    "vector_medio = np.mean(datos, axis=0)\n",
    "\n",
    "print(\"Vector Medio (Medias de las Variables):\")\n",
    "print(vector_medio)"
   ]
  },
  {
   "cell_type": "code",
   "execution_count": 12,
   "id": "fc06d23d",
   "metadata": {},
   "outputs": [],
   "source": [
    "# fig = plt.figure()\n",
    "# ax = fig.add_subplot(111, projection='3d')\n",
    "\n",
    "# # Graficar los datos en 3D\n",
    "# ax.scatter(datos[:, 0], datos[:, 1], datos[:, 2], label='Datos', c='b', marker='o', alpha=0.1)\n",
    "\n",
    "# # Graficar los ejes principales (eigenvectores) en 3D\n",
    "# for i in range(len(eigenvalores)):\n",
    "#     eigenvector = eigenvectores[:, i]\n",
    "#     ax.quiver(0, 0, 0, eigenvector[0], eigenvector[1], eigenvector[2],\n",
    "#               label=f'Eigenvector {i + 1}', color=f'C{i}')\n",
    "\n",
    "# # Configurar etiquetas y leyenda\n",
    "# ax.set_xlabel('Variable 1')\n",
    "# ax.set_ylabel('Variable 2')\n",
    "# ax.set_zlabel('Variable 3')\n",
    "# ax.legend()\n",
    "\n",
    "# # Mostrar el gráfico 3D\n",
    "# plt.show()"
   ]
  },
  {
   "cell_type": "code",
   "execution_count": 13,
   "id": "773ff034",
   "metadata": {},
   "outputs": [],
   "source": [
    "variable1 = datos[:, 0]\n",
    "variable2 = datos[:, 1]\n",
    "variable3 = datos[:, 2]"
   ]
  },
  {
   "cell_type": "code",
   "execution_count": 14,
   "id": "aceebd1c",
   "metadata": {},
   "outputs": [],
   "source": [
    "# fig = plt.figure()\n",
    "# ax = fig.add_subplot(111, projection='3d')\n",
    "\n",
    "# # Asignar colores individualmente a cada punto de datos\n",
    "# for i in range(len(variable1)):\n",
    "#     color = (variable1[i]/255, variable2[i]/255, variable3[i]/255)  # Normaliza los valores para obtener colores RGB\n",
    "#     ax.scatter(variable1[i], variable2[i], variable3[i], label='Variables', c=[color], marker='o')\n",
    "\n",
    "# # Graficar los ejes principales (eigenvectores) en 3D\n",
    "# for i in range(len(eigenvalores)):\n",
    "#     eigenvector = eigenvectores[:, i]\n",
    "#     ax.quiver(0, 0, 0, eigenvector[0], eigenvector[1], eigenvector[2],\n",
    "#               label=f'Eigenvector {i + 1}', color=f'C{i}')\n",
    "\n",
    "# # Configurar etiquetas y leyenda\n",
    "# ax.set_xlabel('Variable 1')\n",
    "# ax.set_ylabel('Variable 2')\n",
    "# ax.set_zlabel('Variable 3')\n",
    "# ax.legend()\n",
    "\n",
    "# # Mostrar el gráfico 3D\n",
    "# plt.show()"
   ]
  },
  {
   "cell_type": "code",
   "execution_count": 17,
   "id": "a4ae9314",
   "metadata": {},
   "outputs": [
    {
     "data": {
      "application/vnd.jupyter.widget-view+json": {
       "model_id": "27d97d363aa3421ab32a702f77bd5619",
       "version_major": 2,
       "version_minor": 0
      },
      "text/plain": [
       "FloatSlider(value=20.0, description='Elevación:', max=90.0)"
      ]
     },
     "metadata": {},
     "output_type": "display_data"
    },
    {
     "data": {
      "application/vnd.jupyter.widget-view+json": {
       "model_id": "b04efca27b9448909f2bde31b724910d",
       "version_major": 2,
       "version_minor": 0
      },
      "text/plain": [
       "FloatSlider(value=0.0, description='Azimut:', max=360.0)"
      ]
     },
     "metadata": {},
     "output_type": "display_data"
    },
    {
     "data": {
      "image/png": "[encoded data removed]",
      "text/plain": [
       "<Figure size 432x288 with 1 Axes>"
      ]
     },
     "metadata": {
      "needs_background": "light"
     },
     "output_type": "display_data"
    }
   ],
   "source": [
    "fig = plt.figure()\n",
    "ax = fig.add_subplot(111, projection='3d')\n",
    "\n",
    "# Graficar los eigenvectores en 3D\n",
    "for i in range(len(eigenvalores)):\n",
    "    eigenvector = eigenvectores[:, i]\n",
    "    ax.quiver(0, 0, 0, eigenvector[0], eigenvector[1], eigenvector[2],\n",
    "              label=f'Eigenvector {i + 1}', color=f'C{i}')\n",
    "\n",
    "# Configurar etiquetas y leyenda\n",
    "ax.set_xlabel('Eje X')\n",
    "ax.set_ylabel('Eje Y')\n",
    "ax.set_zlabel('Eje Z')\n",
    "ax.legend()\n",
    "\n",
    "# Función para habilitar la rotación interactiva\n",
    "def rotate_view(elev, azim):\n",
    "    ax.view_init(elev=elev, azim=azim)\n",
    "\n",
    "# Crear widgets de interacción\n",
    "elev_slider = widgets.FloatSlider(value=20, min=0, max=90, description='Elevación:')\n",
    "azim_slider = widgets.FloatSlider(value=0, min=0, max=360, description='Azimut:')\n",
    "\n",
    "# Conectar los sliders a la función de rotación\n",
    "widgets.interactive(rotate_view, elev=elev_slider, azim=azim_slider)\n",
    "\n",
    "# Mostrar los widgets\n",
    "display(elev_slider, azim_slider)\n",
    "\n",
    "# Mostrar el gráfico 3D de eigenvectores en el cuaderno Jupyter\n",
    "plt.show()"
   ]
  },
  {
   "cell_type": "code",
   "execution_count": null,
   "id": "8c3ba4f0",
   "metadata": {},
   "outputs": [],
   "source": []
  },
  {
   "cell_type": "code",
   "execution_count": null,
   "id": "c6aa950a",
   "metadata": {},
   "outputs": [],
   "source": []
  }
 ],
 "metadata": {
  "kernelspec": {
   "display_name": "Python 3 (ipykernel)",
   "language": "python",
   "name": "python3"
  },
  "language_info": {
   "codemirror_mode": {
    "name": "ipython",
    "version": 3
   },
   "file_extension": ".py",
   "mimetype": "text/x-python",
   "name": "python",
   "nbconvert_exporter": "python",
   "pygments_lexer": "ipython3",
   "version": "3.9.13"
  }
 },
 "nbformat": 4,
 "nbformat_minor": 5
}
