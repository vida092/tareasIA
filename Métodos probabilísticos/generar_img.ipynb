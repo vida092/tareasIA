{
 "cells": [
  {
   "cell_type": "code",
   "execution_count": 2,
   "metadata": {},
   "outputs": [],
   "source": [
    "from PIL import Image\n",
    "import random"
   ]
  },
  {
   "cell_type": "code",
   "execution_count": 4,
   "metadata": {},
   "outputs": [],
   "source": [
    "width, height = 250, 250\n",
    "image = Image.new(\"RGB\", (width, height))\n",
    "pixels = image.load()\n",
    "for x in range(width):\n",
    "    for y in range(height):\n",
    "        r = random.randint(0, 255) #Generamos números aleatorios sin pasar el rango permitido\n",
    "        g = random.randint(0, 126) #Numero aleatorios hasta 126 pues luego se van a multiplicar por 2 y así evitamos sobrepasar el rango\n",
    "        b = g * random.randint(0, 2)\n",
    "        pixels[x, y] = (r, g, b)\n",
    "\n",
    "\n",
    "image.save(\"imagen_generada.png\")\n",
    "\n",
    "image.close()"
   ]
  }
 ],
 "metadata": {
  "kernelspec": {
   "display_name": "Python 3",
   "language": "python",
   "name": "python3"
  },
  "language_info": {
   "codemirror_mode": {
    "name": "ipython",
    "version": 3
   },
   "file_extension": ".py",
   "mimetype": "text/x-python",
   "name": "python",
   "nbconvert_exporter": "python",
   "pygments_lexer": "ipython3",
   "version": "3.9.13"
  },
  "orig_nbformat": 4
 },
 "nbformat": 4,
 "nbformat_minor": 2
}
