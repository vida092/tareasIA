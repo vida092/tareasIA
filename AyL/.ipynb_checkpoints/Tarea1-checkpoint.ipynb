{
 "cells": [
  {
   "cell_type": "markdown",
   "id": "74fcd108",
   "metadata": {},
   "source": [
    "Primero definimos las reglas"
   ]
  },
  {
   "cell_type": "code",
   "execution_count": 2,
   "id": "9289a29e",
   "metadata": {},
   "outputs": [],
   "source": [
    "import random\n",
    "def rule1(string):\n",
    "    theorem = string\n",
    "    if string[-1]==\"I\":\n",
    "        print(\"rule1\")\n",
    "        theorem = string + \"U\"\n",
    "    print(theorem)\n",
    "    return theorem\n",
    "\n",
    "def rule2(string):\n",
    "    theorem =string\n",
    "    if string[0] == \"M\":\n",
    "        print(\"rule2\")\n",
    "        theorem = string + string[1:]\n",
    "    print(theorem)\n",
    "    return theorem\n",
    "\n",
    "def rule3(string):\n",
    "    theorem = string  \n",
    "    for i in range(len(string)):\n",
    "        print(\"rule3\")\n",
    "        if string[i:i+3] == \"III\":  \n",
    "            theorem = theorem.replace(\"III\", \"U\")\n",
    "    print(theorem)\n",
    "    return theorem\n",
    "\n",
    "        "
   ]
  },
  {
   "cell_type": "markdown",
   "id": "cf6044bd",
   "metadata": {},
   "source": [
    "Ahora una función que aplique las reglas, utilicé random para poder dar diferentes probabilidades ya que no es posible que todas las reglas se apliquen a un mismo string, habrá que empezar con \"MI\" y el parámetro $n$ sirve para dar un límite a la longitud"
   ]
  },
  {
   "cell_type": "code",
   "execution_count": 4,
   "id": "130c3a55",
   "metadata": {},
   "outputs": [],
   "source": [
    "def apply_rules_miu(string, n):\n",
    "    while len(string)<n:\n",
    "        p=random.random()\n",
    "        if p<0.3:\n",
    "            stringe = rule3(string)\n",
    "        elif p>0.3 and p<0.6:\n",
    "            string = rule1(string)\n",
    "        else:\n",
    "            string = rule2(string)"
   ]
  },
  {
   "cell_type": "code",
   "execution_count": 5,
   "id": "e4e3b835",
   "metadata": {},
   "outputs": [
    {
     "name": "stdout",
     "output_type": "stream",
     "text": [
      "rule3\n",
      "rule3\n",
      "MI\n",
      "rule2\n",
      "MII\n",
      "rule1\n",
      "MIIU\n",
      "rule2\n",
      "MIIUIIU\n",
      "MIIUIIU\n",
      "rule3\n",
      "rule3\n",
      "rule3\n",
      "rule3\n",
      "rule3\n",
      "rule3\n",
      "rule3\n",
      "MIIUIIU\n",
      "rule3\n",
      "rule3\n",
      "rule3\n",
      "rule3\n",
      "rule3\n",
      "rule3\n",
      "rule3\n",
      "MIIUIIU\n",
      "MIIUIIU\n",
      "rule2\n",
      "MIIUIIUIIUIIU\n"
     ]
    }
   ],
   "source": [
    "apply_rules_miu(\"MI\", 10)"
   ]
  },
  {
   "cell_type": "code",
   "execution_count": null,
   "id": "914f741b",
   "metadata": {},
   "outputs": [],
   "source": []
  }
 ],
 "metadata": {
  "kernelspec": {
   "display_name": "Python 3 (ipykernel)",
   "language": "python",
   "name": "python3"
  },
  "language_info": {
   "codemirror_mode": {
    "name": "ipython",
    "version": 3
   },
   "file_extension": ".py",
   "mimetype": "text/x-python",
   "name": "python",
   "nbconvert_exporter": "python",
   "pygments_lexer": "ipython3",
   "version": "3.9.13"
  }
 },
 "nbformat": 4,
 "nbformat_minor": 5
}
