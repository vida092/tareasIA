{
 "cells": [
  {
   "cell_type": "code",
   "execution_count": 34,
   "id": "9289a29e",
   "metadata": {},
   "outputs": [],
   "source": [
    "def rule1(string):\n",
    "    if string[-1]==\"I\":\n",
    "        print(\"rule1\")\n",
    "        string = string + \"U\"\n",
    "    print(string)\n",
    "    return string\n",
    "\n",
    "def rule2(string):\n",
    "    if string[0] == \"M\":\n",
    "        print(\"rule2\")\n",
    "        string = string + string[1:]\n",
    "    print(string)\n",
    "    return string\n",
    "\n",
    "def rule3(string):\n",
    "    for i in range(len(string)):\n",
    "        print(\"rule2\")\n",
    "        if string[i:4] == \"III\":            \n",
    "            string=string.replace(\"III\", \"U\")\n",
    "    print(string)\n",
    "    return string\n",
    "        "
   ]
  },
  {
   "cell_type": "code",
   "execution_count": 22,
   "id": "130c3a55",
   "metadata": {},
   "outputs": [
    {
     "name": "stdout",
     "output_type": "stream",
     "text": [
      "0\n",
      "1\n",
      "True\n",
      "III\n",
      "2\n",
      "3\n",
      "4\n",
      "5\n",
      "MUII\n"
     ]
    },
    {
     "data": {
      "text/plain": [
       "'MUII'"
      ]
     },
     "execution_count": 22,
     "metadata": {},
     "output_type": "execute_result"
    }
   ],
   "source": []
  },
  {
   "cell_type": "code",
   "execution_count": null,
   "id": "e4e3b835",
   "metadata": {},
   "outputs": [],
   "source": [
    "def generate_mui(iterations):\n",
    "    axiom = \"MI\"\n",
    "    for _ in range(iterations):\n",
    "        rule1(axiom)\n",
    "        rule2(axiom)\n",
    "        rule3(axiom)\n",
    "    print(axiom)"
   ]
  },
  {
   "cell_type": "code",
   "execution_count": null,
   "id": "cd30a2d8",
   "metadata": {},
   "outputs": [],
   "source": [
    "iterations = 5  \n",
    "result = generate_mui(iterations)\n"
   ]
  },
  {
   "cell_type": "code",
   "execution_count": null,
   "id": "3dbfb76a",
   "metadata": {},
   "outputs": [],
   "source": [
    "a=\"12345678\"\n",
    "print(a[-1])"
   ]
  },
  {
   "cell_type": "code",
   "execution_count": null,
   "id": "08911d9f",
   "metadata": {},
   "outputs": [],
   "source": [
    "rule3(\"MIIIIII\")"
   ]
  },
  {
   "cell_type": "code",
   "execution_count": null,
   "id": "80ff57c3",
   "metadata": {},
   "outputs": [],
   "source": [
    "print(a[1:4])"
   ]
  },
  {
   "cell_type": "code",
   "execution_count": 7,
   "id": "f9948436",
   "metadata": {},
   "outputs": [
    {
     "name": "stdout",
     "output_type": "stream",
     "text": [
      "MIU\n",
      "regla2\n",
      "0\n"
     ]
    }
   ],
   "source": [
    "def apply_rules(input_str, num_iterations):\n",
    "    for _ in range(num_iterations):\n",
    "        new_str = \"\"\n",
    "        i = 0\n",
    "        n = len(input_str)\n",
    "        while i < n:\n",
    "            if input_str[i:].startswith(\"III\"):\n",
    "                new_str += \"U\"\n",
    "                i += 3\n",
    "                print(\"regla1\")\n",
    "            elif input_str[i:].startswith(\"M\"):\n",
    "                new_str += input_str[i] + input_str[i+1:]\n",
    "                i += 1\n",
    "                n += 1  \n",
    "                print(new_str)\n",
    "                print(\"regla2\")\n",
    "            elif input_str.endswith(\"I\"):\n",
    "                new_str += input_str + \"U\"\n",
    "                i += 1\n",
    "                print(\"regla3\")\n",
    "            else:\n",
    "                return 0\n",
    "        input_str = new_str\n",
    "        print(input_str)\n",
    "    return input_str\n",
    "\n",
    "# Ejemplo de uso:\n",
    "initial_str = \"MIU\"\n",
    "iterations = 3\n",
    "result = apply_rules(initial_str, iterations)\n",
    "print(result)\n"
   ]
  },
  {
   "cell_type": "code",
   "execution_count": null,
   "id": "9c9f6494",
   "metadata": {},
   "outputs": [],
   "source": [
    "def apply_rules(input_str, num_iterations):\n",
    "    for _ in range(num_iterations):\n",
    "        new_str = \"\"\n",
    "        i = 0\n",
    "        while i < len(input_str):\n",
    "            if input_str[i:].startswith(\"III\"):\n",
    "                new_str += \"U\"\n",
    "                i += 3\n",
    "            elif input_str[i:].startswith(\"M\"):\n",
    "                j = i + 1\n",
    "                while j < len(input_str) and input_str[j] != \"I\":\n",
    "                    new_str += input_str[j]\n",
    "                    j += 1\n",
    "                i = j\n",
    "            elif input_str[i:].endswith(\"I\"):\n",
    "                new_str += input_str[i] + \"U\"\n",
    "                i += 1\n",
    "            else:\n",
    "                new_str += input_str[i]\n",
    "                i += 1\n",
    "        input_str = new_str\n",
    "    return input_str\n",
    "\n",
    "initial_str = \"MIU\"\n",
    "iterations = 3\n",
    "result = apply_rules(initial_str, iterations)\n",
    "print(result)\n"
   ]
  },
  {
   "cell_type": "code",
   "execution_count": null,
   "id": "912c2dc2",
   "metadata": {},
   "outputs": [],
   "source": [
    "string=\"MIU\"\n",
    "if string[0] == \"M\":\n",
    "        string = string + string[1:]\n",
    "        print(string)"
   ]
  },
  {
   "cell_type": "code",
   "execution_count": 43,
   "id": "6b4c5a81",
   "metadata": {},
   "outputs": [],
   "source": [
    "def apply_rules_miu(string):\n",
    "    while len(string)<3:\n",
    "        rule3(string)\n",
    "        rule1(string)\n",
    "        rule2(string)\n",
    "        print(len(string))\n",
    "        "
   ]
  },
  {
   "cell_type": "code",
   "execution_count": 44,
   "id": "b23f23f4",
   "metadata": {},
   "outputs": [],
   "source": [
    "apply_rules_miu(\"MIU\")"
   ]
  },
  {
   "cell_type": "code",
   "execution_count": 45,
   "id": "18a5acac",
   "metadata": {},
   "outputs": [
    {
     "name": "stdout",
     "output_type": "stream",
     "text": [
      "rule2\n",
      "MIUIUIUIU\n"
     ]
    },
    {
     "data": {
      "text/plain": [
       "'MIUIUIUIU'"
      ]
     },
     "execution_count": 45,
     "metadata": {},
     "output_type": "execute_result"
    }
   ],
   "source": [
    "rule2(\"MIUIU\")"
   ]
  },
  {
   "cell_type": "code",
   "execution_count": null,
   "id": "e032bb27",
   "metadata": {},
   "outputs": [],
   "source": []
  }
 ],
 "metadata": {
  "kernelspec": {
   "display_name": "Python 3 (ipykernel)",
   "language": "python",
   "name": "python3"
  },
  "language_info": {
   "codemirror_mode": {
    "name": "ipython",
    "version": 3
   },
   "file_extension": ".py",
   "mimetype": "text/x-python",
   "name": "python",
   "nbconvert_exporter": "python",
   "pygments_lexer": "ipython3",
   "version": "3.9.13"
  }
 },
 "nbformat": 4,
 "nbformat_minor": 5
}
