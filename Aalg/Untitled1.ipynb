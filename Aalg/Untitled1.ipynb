{
 "cells": [
  {
   "cell_type": "code",
   "execution_count": 1,
   "id": "4e4ffb76",
   "metadata": {},
   "outputs": [
    {
     "name": "stderr",
     "output_type": "stream",
     "text": [
      "C:\\Users\\user\\AppData\\Local\\Temp\\ipykernel_10264\\504469331.py:8: MatplotlibDeprecationWarning: The get_cmap function was deprecated in Matplotlib 3.7 and will be removed two minor releases later. Use ``matplotlib.colormaps[name]`` or ``matplotlib.colormaps.get_cmap(obj)`` instead.\n",
      "  cmap = plt.cm.get_cmap('Blues', 3)  # Define un mapa de colores con tres colores (0, 1, 2)\n"
     ]
    },
    {
     "data": {
      "image/png": "[encoded data removed]",
      "text/plain": [
       "<Figure size 432x288 with 1 Axes>"
      ]
     },
     "metadata": {
      "needs_background": "light"
     },
     "output_type": "display_data"
    },
    {
     "data": {
      "image/png": "[encoded data removed]",
      "text/plain": [
       "<Figure size 432x288 with 1 Axes>"
      ]
     },
     "metadata": {
      "needs_background": "light"
     },
     "output_type": "display_data"
    },
    {
     "data": {
      "image/png": "[encoded data removed]",
      "text/plain": [
       "<Figure size 432x288 with 1 Axes>"
      ]
     },
     "metadata": {
      "needs_background": "light"
     },
     "output_type": "display_data"
    },
    {
     "data": {
      "image/png": "[encoded data removed]",
      "text/plain": [
       "<Figure size 432x288 with 1 Axes>"
      ]
     },
     "metadata": {
      "needs_background": "light"
     },
     "output_type": "display_data"
    }
   ],
   "source": [
    "import matplotlib.pyplot as plt\n",
    "import numpy as np\n",
    "import time\n",
    "\n",
    "def visualize(matrix, current):\n",
    "    plt.clf()\n",
    "    rows, cols = matrix.shape\n",
    "    cmap = plt.cm.get_cmap('Blues', 3)  # Define un mapa de colores con tres colores (0, 1, 2)\n",
    "\n",
    "    # Marca la posición actual en rojo\n",
    "    plt.scatter(current[1], current[0], color='red', marker='o', s=100, label='Actual')\n",
    "\n",
    "    # Marca el inicio en verde\n",
    "    plt.scatter(start[1], start[0], color='green', marker='o', s=100, label='Inicio')\n",
    "\n",
    "    # Marca el final en naranja\n",
    "    plt.scatter(end[1], end[0], color='orange', marker='o', s=100, label='Final')\n",
    "\n",
    "    # Visualiza la matriz con diferentes colores según los valores\n",
    "    plt.imshow(matrix, cmap=cmap, vmin=0, vmax=2)\n",
    "\n",
    "    # Agrega una leyenda\n",
    "    plt.legend()\n",
    "\n",
    "    plt.pause(0.1)\n",
    "\n",
    "# Representación de la matriz\n",
    "matrix = np.array([\n",
    "    [0, 0, 2, 0, 0],\n",
    "    [0, 2, 0, 2, 0],\n",
    "    [0, 0, 0, 2, 0],\n",
    "    [0, 2, 0, 0, 0],\n",
    "    [0, 0, 0, 2, 0]\n",
    "])  # Matriz de costos (0 para celdas libres, 2 para obstáculos)\n",
    "\n",
    "start = (0, 0)  # Coordenadas de inicio\n",
    "end = (4, 4)    # Coordenadas de final\n",
    "\n",
    "plt.ion()\n",
    "\n",
    "# Bucle prin\n",
    "# En este ejemplo, simplemente dibujamos la matriz inicial\n",
    "visualize(matrix, start)\n",
    "\n",
    "# Simulación de proceso paso a paso (puedes reemplazar esto con tu algoritmo)\n",
    "for i in range(1, 4):\n",
    "    time.sleep(1)\n",
    "    matrix[1, i] = 1  # Marcar camino encontrado\n",
    "    visualize(matrix, (1, i))\n",
    "\n",
    "plt.ioff()\n",
    "plt.show()"
   ]
  },
  {
   "cell_type": "code",
   "execution_count": 2,
   "id": "0fdfe7dd",
   "metadata": {},
   "outputs": [
    {
     "name": "stdout",
     "output_type": "stream",
     "text": [
      "[[ 1.  1. inf  1.  1.]\n",
      " [ 1. inf  1. inf  1.]\n",
      " [ 1.  1.  1. inf  1.]\n",
      " [ 1. inf  1.  1.  1.]\n",
      " [ 1.  1.  1. inf  1.]]\n"
     ]
    }
   ],
   "source": [
    "matrix = np.array([\n",
    "    [0, 0, 2, 0, 0],\n",
    "    [0, 2, 0, 2, 0],\n",
    "    [0, 0, 0, 2, 0],\n",
    "    [0, 2, 0, 0, 0],\n",
    "    [0, 0, 0, 2, 0]\n",
    "])\n",
    "\n",
    "# Definir los costos\n",
    "costo_libre = 1  # Costo de moverse en una celda libre\n",
    "costo_obstaculo = np.inf  # Costo de moverse a través de un obstáculo (infinito)\n",
    "\n",
    "# Crear la cost_matrix basada en la matriz original\n",
    "cost_matrix = np.where(matrix == 0, costo_libre, costo_obstaculo)\n",
    "\n",
    "print(cost_matrix)"
   ]
  },
  {
   "cell_type": "code",
   "execution_count": null,
   "id": "d737c17f",
   "metadata": {},
   "outputs": [],
   "source": []
  }
 ],
 "metadata": {
  "kernelspec": {
   "display_name": "Python 3 (ipykernel)",
   "language": "python",
   "name": "python3"
  },
  "language_info": {
   "codemirror_mode": {
    "name": "ipython",
    "version": 3
   },
   "file_extension": ".py",
   "mimetype": "text/x-python",
   "name": "python",
   "nbconvert_exporter": "python",
   "pygments_lexer": "ipython3",
   "version": "3.9.13"
  }
 },
 "nbformat": 4,
 "nbformat_minor": 5
}
