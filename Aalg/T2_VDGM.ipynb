{
 "cells": [
  {
   "cell_type": "code",
   "execution_count": 1,
   "id": "ae8fc3dd",
   "metadata": {},
   "outputs": [],
   "source": [
    "import matplotlib.pyplot as plt # PARA LOS PLOTS\n",
    "import numpy as np # PARA OPERACIONES MATRICIALES\n",
    "import time #PARA ANIMAR LOS PLOTS"
   ]
  },
  {
   "cell_type": "code",
   "execution_count": 2,
   "id": "2a18687a",
   "metadata": {},
   "outputs": [],
   "source": [
    "def dijkstra(matrix, start, end):\n",
    "    rows, cols = matrix.shape\n",
    "    distance = np.full((rows, cols), np.inf)  # Inicializa todas las distancias como infinito\n",
    "    visited = np.zeros((rows, cols), dtype=bool)\n",
    "    prev = np.zeros((rows, cols, 2), dtype=int)  # Almacena los nodos previos para reconstruir el camino\n",
    "\n",
    "    distance[start] = 0\n",
    "\n",
    "    while True:\n",
    "        # Encuentra el nodo no visitado con la distancia mínima\n",
    "        min_distance = np.inf\n",
    "        current = None\n",
    "        for r in range(rows):\n",
    "            for c in range(cols):\n",
    "                if not visited[r, c] and distance[r, c] < min_distance:\n",
    "                    min_distance = distance[r, c]\n",
    "                    current = (r, c)\n",
    "\n",
    "        if current is None:\n",
    "            break\n",
    "\n",
    "        r, c = current\n",
    "        visited[r, c] = True\n",
    "\n",
    "        # Verifica vecinos\n",
    "        for dr, dc in [(0, 1), (1, 0), (0, -1), (-1, 0)]:\n",
    "            nr, nc = r + dr, c + dc\n",
    "            if 0 <= nr < rows and 0 <= nc < cols and not visited[nr, nc] and matrix[nr, nc] == 0:\n",
    "                new_distance = distance[r, c] + 1  # Costo de movimiento entre celdas (en este caso, todas las celdas tienen el mismo costo)\n",
    "                if new_distance < distance[nr, nc]:\n",
    "                    distance[nr, nc] = new_distance\n",
    "                    prev[nr, nc] = (r, c)\n",
    "\n",
    "    # Reconstruir el camino desde el final hasta el inicio\n",
    "    path = []\n",
    "    r, c = end\n",
    "    while (r, c) != start:\n",
    "        path.append((r, c))\n",
    "        r, c = prev[r, c]\n",
    "    path.append(start)\n",
    "    path.reverse()\n",
    "\n",
    "    return path\n",
    "\n",
    "\n"
   ]
  },
  {
   "cell_type": "code",
   "execution_count": 3,
   "id": "9be4ebd3",
   "metadata": {},
   "outputs": [
    {
     "name": "stdout",
     "output_type": "stream",
     "text": [
      "Camino encontrado: [(0, 5), (0, 6), (0, 7), (0, 8), (0, 9), (1, 9), (2, 9)]\n"
     ]
    }
   ],
   "source": [
    "# Ejemplo de uso:\n",
    "matrix = np.zeros((10, 10))  # Matriz 10x10  llena de ceros al principio\n",
    "start = (0, 5)  # Coordenadas de inicio\n",
    "end = (2, 9)    # Coordenadas de final\n",
    "\n",
    "path = dijkstra(matrix, start, end)\n",
    "print(\"Camino encontrado:\", path)"
   ]
  },
  {
   "cell_type": "code",
   "execution_count": 4,
   "id": "b598642c",
   "metadata": {},
   "outputs": [
    {
     "data": {
      "image/png": "[encoded data removed]",
      "text/plain": [
       "<Figure size 432x432 with 1 Axes>"
      ]
     },
     "metadata": {
      "needs_background": "light"
     },
     "output_type": "display_data"
    },
    {
     "data": {
      "image/png": "[encoded data removed]",
      "text/plain": [
       "<Figure size 432x288 with 1 Axes>"
      ]
     },
     "metadata": {
      "needs_background": "light"
     },
     "output_type": "display_data"
    },
    {
     "data": {
      "image/png": "[encoded data removed]",
      "text/plain": [
       "<Figure size 432x288 with 1 Axes>"
      ]
     },
     "metadata": {
      "needs_background": "light"
     },
     "output_type": "display_data"
    },
    {
     "data": {
      "image/png": "[encoded data removed]",
      "text/plain": [
       "<Figure size 432x288 with 1 Axes>"
      ]
     },
     "metadata": {
      "needs_background": "light"
     },
     "output_type": "display_data"
    },
    {
     "data": {
      "image/png": "[encoded data removed]",
      "text/plain": [
       "<Figure size 432x288 with 1 Axes>"
      ]
     },
     "metadata": {
      "needs_background": "light"
     },
     "output_type": "display_data"
    },
    {
     "data": {
      "image/png": "[encoded data removed]",
      "text/plain": [
       "<Figure size 432x288 with 1 Axes>"
      ]
     },
     "metadata": {
      "needs_background": "light"
     },
     "output_type": "display_data"
    },
    {
     "data": {
      "image/png": "[encoded data removed]",
      "text/plain": [
       "<Figure size 432x288 with 1 Axes>"
      ]
     },
     "metadata": {
      "needs_background": "light"
     },
     "output_type": "display_data"
    }
   ],
   "source": [
    "def visualize(matrix, current):\n",
    "    plt.clf()\n",
    "    plt.imshow(matrix, cmap='Blues', vmin=0, vmax=1)\n",
    "    plt.scatter(current[1],current[0], color='red', marker='o', s=100)  # Marca la posición actual ¿quien sabe porqué hay que invertirlas?\n",
    "    plt.scatter(start[1],start[0], color='green', marker='o', s=100)  # Marca el inicio\n",
    "    plt.scatter(end[1],end[0], color='orange', marker='o', s=100)  # Marca el final\n",
    "    plt.pause(0.1)\n",
    "\n",
    "# Algoritmo principal\n",
    "dijkstra(matrix, start, end)\n",
    "\n",
    "\n",
    "plt.ion()\n",
    "plt.figure(figsize=(6, 6))\n",
    "\n",
    "#visualizar el proceso paso a paso\n",
    "for current in path:\n",
    "    matrix[current] = 1  # Marca el camino en la matriz\n",
    "    visualize(matrix, current)\n",
    "    time.sleep(0.1)\n",
    "plt.ioff()\n",
    "plt.show()"
   ]
  },
  {
   "cell_type": "code",
   "execution_count": 5,
   "id": "04d4cad0",
   "metadata": {},
   "outputs": [],
   "source": [
    "matrix = np.full((10, 10), 1)  # Matriz 10x10 inicialmente llena de obstáculos (1)\n",
    "start = (0, 0)  # Coordenadas de inicio\n",
    "end = (9, 9)"
   ]
  },
  {
   "cell_type": "code",
   "execution_count": 6,
   "id": "1a2a0e13",
   "metadata": {},
   "outputs": [
    {
     "name": "stdout",
     "output_type": "stream",
     "text": [
      "[[1 1 1 1 1 1 1 1 1 1]\n",
      " [1 1 1 1 1 1 1 1 1 1]\n",
      " [1 1 1 1 1 1 1 1 1 1]\n",
      " [1 1 1 1 1 1 1 1 1 1]\n",
      " [1 1 1 1 1 1 1 1 1 1]\n",
      " [1 1 1 1 1 1 1 1 1 1]\n",
      " [1 1 1 1 1 1 1 1 1 1]\n",
      " [1 1 1 1 1 1 1 1 1 1]\n",
      " [1 1 1 1 1 1 1 1 1 1]\n",
      " [1 1 1 1 1 1 1 1 1 1]]\n"
     ]
    }
   ],
   "source": [
    "print(matrix)"
   ]
  },
  {
   "cell_type": "code",
   "execution_count": null,
   "id": "e8283d5e",
   "metadata": {},
   "outputs": [],
   "source": []
  },
  {
   "cell_type": "code",
   "execution_count": null,
   "id": "fdc40966",
   "metadata": {},
   "outputs": [],
   "source": []
  }
 ],
 "metadata": {
  "kernelspec": {
   "display_name": "Python 3 (ipykernel)",
   "language": "python",
   "name": "python3"
  },
  "language_info": {
   "codemirror_mode": {
    "name": "ipython",
    "version": 3
   },
   "file_extension": ".py",
   "mimetype": "text/x-python",
   "name": "python",
   "nbconvert_exporter": "python",
   "pygments_lexer": "ipython3",
   "version": "3.9.13"
  }
 },
 "nbformat": 4,
 "nbformat_minor": 5
}
